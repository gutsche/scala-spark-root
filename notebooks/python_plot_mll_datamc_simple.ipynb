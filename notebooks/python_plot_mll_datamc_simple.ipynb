{
 "cells": [
  {
   "cell_type": "code",
   "execution_count": 5,
   "metadata": {},
   "outputs": [],
   "source": [
    "import pyarrow.parquet as pq\n",
    "import numpy as np\n",
    "import pandas as pd\n",
    "import matplotlib.pyplot as plt"
   ]
  },
  {
   "cell_type": "code",
   "execution_count": 40,
   "metadata": {},
   "outputs": [],
   "source": [
    "base_dir_mc_dy = \"/home/olivito/datasci/spark/clustertest/dimuonReduced_DYJetsToLL_20000_171220_141841/\"\n",
    "input_path_mc_dy_mll = base_dir_mc_dy + \"mll_merged.parquet\"\n",
    "input_path_mc_dy_counts = base_dir_mc_dy + \"count.parquet\"\n",
    "df_mll_mc_dy = pq.ParquetDataset(input_path_mc_dy_mll).read().to_pandas()\n",
    "df_counts_mc_dy = pq.ParquetDataset(input_path_mc_dy_counts).read().to_pandas()"
   ]
  },
  {
   "cell_type": "code",
   "execution_count": 41,
   "metadata": {},
   "outputs": [],
   "source": [
    "base_dir_mc_zz4mu = \"/home/olivito/datasci/spark/clustertest/dimuonReduced_ZZTo4mu_171220_134613/\"\n",
    "input_path_mc_zz4mu_mll = base_dir_mc_zz4mu + \"mll_merged.parquet\"\n",
    "input_path_mc_zz4mu_counts = base_dir_mc_zz4mu + \"count.parquet\"\n",
    "df_mll_mc_zz4mu = pq.ParquetDataset(input_path_mc_zz4mu_mll).read().to_pandas()\n",
    "df_counts_mc_zz4mu = pq.ParquetDataset(input_path_mc_zz4mu_counts).read().to_pandas()"
   ]
  },
  {
   "cell_type": "code",
   "execution_count": 42,
   "metadata": {},
   "outputs": [],
   "source": [
    "base_dir_data = \"/home/olivito/datasci/spark/clustertest/dimuonReduced_SingleMu_Run2012B_171220_162746/\"\n",
    "input_path_data_mll = base_dir_data + \"mll_merged.parquet\"\n",
    "input_path_data_counts = base_dir_data + \"count.parquet\"\n",
    "df_mll_data = pq.ParquetDataset(input_path_data_mll).read().to_pandas()\n",
    "df_counts_data = pq.ParquetDataset(input_path_data_counts).read().to_pandas()"
   ]
  },
  {
   "cell_type": "code",
   "execution_count": 43,
   "metadata": {},
   "outputs": [
    {
     "name": "stdout",
     "output_type": "stream",
     "text": [
      "1416000\n",
      "298217\n",
      "2040855\n"
     ]
    },
    {
     "data": {
      "text/html": [
       "<div>\n",
       "<style>\n",
       "    .dataframe thead tr:only-child th {\n",
       "        text-align: right;\n",
       "    }\n",
       "\n",
       "    .dataframe thead th {\n",
       "        text-align: left;\n",
       "    }\n",
       "\n",
       "    .dataframe tbody tr th {\n",
       "        vertical-align: top;\n",
       "    }\n",
       "</style>\n",
       "<table border=\"1\" class=\"dataframe\">\n",
       "  <thead>\n",
       "    <tr style=\"text-align: right;\">\n",
       "      <th></th>\n",
       "      <th>mll</th>\n",
       "    </tr>\n",
       "  </thead>\n",
       "  <tbody>\n",
       "    <tr>\n",
       "      <th>0</th>\n",
       "      <td>92.448212</td>\n",
       "    </tr>\n",
       "    <tr>\n",
       "      <th>1</th>\n",
       "      <td>96.570663</td>\n",
       "    </tr>\n",
       "    <tr>\n",
       "      <th>2</th>\n",
       "      <td>90.192520</td>\n",
       "    </tr>\n",
       "    <tr>\n",
       "      <th>3</th>\n",
       "      <td>90.843185</td>\n",
       "    </tr>\n",
       "    <tr>\n",
       "      <th>4</th>\n",
       "      <td>91.686333</td>\n",
       "    </tr>\n",
       "  </tbody>\n",
       "</table>\n",
       "</div>"
      ],
      "text/plain": [
       "         mll\n",
       "0  92.448212\n",
       "1  96.570663\n",
       "2  90.192520\n",
       "3  90.843185\n",
       "4  91.686333"
      ]
     },
     "execution_count": 43,
     "metadata": {},
     "output_type": "execute_result"
    }
   ],
   "source": [
    "print len(df_mll_mc_dy)\n",
    "print len(df_mll_mc_zz4mu)\n",
    "print len(df_mll_data)\n",
    "df_mll_mc_dy.head()"
   ]
  },
  {
   "cell_type": "code",
   "execution_count": 44,
   "metadata": {},
   "outputs": [
    {
     "name": "stdout",
     "output_type": "stream",
     "text": [
      "1\n",
      "1\n"
     ]
    },
    {
     "data": {
      "text/html": [
       "<div>\n",
       "<style>\n",
       "    .dataframe thead tr:only-child th {\n",
       "        text-align: right;\n",
       "    }\n",
       "\n",
       "    .dataframe thead th {\n",
       "        text-align: left;\n",
       "    }\n",
       "\n",
       "    .dataframe tbody tr th {\n",
       "        vertical-align: top;\n",
       "    }\n",
       "</style>\n",
       "<table border=\"1\" class=\"dataframe\">\n",
       "  <thead>\n",
       "    <tr style=\"text-align: right;\">\n",
       "      <th></th>\n",
       "      <th>count</th>\n",
       "    </tr>\n",
       "  </thead>\n",
       "  <tbody>\n",
       "    <tr>\n",
       "      <th>0</th>\n",
       "      <td>12778258</td>\n",
       "    </tr>\n",
       "  </tbody>\n",
       "</table>\n",
       "</div>"
      ],
      "text/plain": [
       "      count\n",
       "0  12778258"
      ]
     },
     "execution_count": 44,
     "metadata": {},
     "output_type": "execute_result"
    }
   ],
   "source": [
    "print len(df_counts_mc_dy)\n",
    "print len(df_counts_data)\n",
    "df_counts_mc_dy.head()"
   ]
  },
  {
   "cell_type": "code",
   "execution_count": 47,
   "metadata": {},
   "outputs": [
    {
     "name": "stdout",
     "output_type": "stream",
     "text": [
      "12778258\n",
      "1499064\n",
      "59538958\n"
     ]
    }
   ],
   "source": [
    "nevents_mc_dy = df_counts_mc_dy['count'].sum()\n",
    "nevents_mc_zz4mu = df_counts_mc_zz4mu['count'].sum()\n",
    "nevents_data = df_counts_data['count'].sum()\n",
    "print nevents_mc_dy\n",
    "print nevents_mc_zz4mu\n",
    "print nevents_data"
   ]
  },
  {
   "cell_type": "code",
   "execution_count": 71,
   "metadata": {},
   "outputs": [
    {
     "name": "stdout",
     "output_type": "stream",
     "text": [
      "1.22418834398\n",
      "1.3819591425e-05\n"
     ]
    }
   ],
   "source": [
    "lumi = 4.43 # in fb-1, for 2012B\n",
    "xsec_dy = 3531.15 # in pb, not sure if there's a higher order value\n",
    "weight_dy = lumi * xsec_dy * 1000. / nevents_mc_dy\n",
    "print weight_dy\n",
    "weights_dy = weight_dy * np.ones(len(df_mll_mc_dy))\n",
    "xsec_zz4mu = 5.196 * 0.03 * 0.03 # in pb, LO, including BR to 4mu\n",
    "weight_zz4mu = lumi * xsec_zz4mu * 1000. / nevent_mc_zz4mu\n",
    "print weight_zz4mu\n",
    "weights_zz4mu = weight_zz4mu * np.ones(len(df_mll_mc_zz4mu))"
   ]
  },
  {
   "cell_type": "code",
   "execution_count": 148,
   "metadata": {},
   "outputs": [
    {
     "data": {
      "image/png": "[encoded data removed]",
      "text/plain": [
       "<matplotlib.figure.Figure at 0x7fb258c00090>"
      ]
     },
     "metadata": {},
     "output_type": "display_data"
    }
   ],
   "source": [
    "fig = plt.figure(figsize=(8,6))\n",
    "\n",
    "# set up binning.  get also bin centers, to use for data points\n",
    "bin_size = 2\n",
    "xmin = 20\n",
    "xmax = 151 # should make this slightly larger than the desired end point of the plot\n",
    "binning = np.arange(xmin,xmax,bin_size)\n",
    "binning_centers = np.arange(xmin + bin_size/2.,xmax,bin_size)\n",
    "\n",
    "# for MC, can plot all together as a stacked histogram\n",
    "plt.hist([df_mll_mc_zz4mu['mll'],df_mll_mc_dy['mll']],\n",
    "         weights=[weights_zz4mu,weights_dy],\n",
    "         label=['ZZ(4$\\mu$)','Drell-Yan'],\n",
    "         color=['green','blue'],\n",
    "         bins=binning, histtype='bar', stacked=True\n",
    "        )\n",
    "\n",
    "# for data, get the bin counts and plot with error bars\n",
    "hist_data,_ = np.histogram(df_mll_data['mll'],binning)\n",
    "errors_data = np.sqrt(hist_data)\n",
    "plt.errorbar(binning_centers, hist_data, errors_data,\n",
    "             linestyle='none', marker='o', color='black', label='Data, 2012B'\n",
    "            )\n",
    "\n",
    "# add axis labels and legend\n",
    "plt.xlabel('$M_{\\mu\\mu}$ [GeV]',fontsize='large')\n",
    "plt.ylabel('Events / '+str(bin_size)+' GeV',fontsize='large')\n",
    "plt.legend(fontsize='large')\n",
    "\n",
    "plt.show()"
   ]
  },
  {
   "cell_type": "code",
   "execution_count": null,
   "metadata": {},
   "outputs": [],
   "source": []
  }
 ],
 "metadata": {
  "kernelspec": {
   "display_name": "Python 2",
   "language": "python",
   "name": "python2"
  },
  "language_info": {
   "codemirror_mode": {
    "name": "ipython",
    "version": 2
   },
   "file_extension": ".py",
   "mimetype": "text/x-python",
   "name": "python",
   "nbconvert_exporter": "python",
   "pygments_lexer": "ipython2",
   "version": "2.7.12"
  }
 },
 "nbformat": 4,
 "nbformat_minor": 2
}
